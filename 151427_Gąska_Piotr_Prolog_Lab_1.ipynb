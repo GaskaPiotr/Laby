{
  "cells": [
    {
      "cell_type": "markdown",
      "metadata": {
        "id": "view-in-github",
        "colab_type": "text"
      },
      "source": [
        "<a href=\"https://colab.research.google.com/github/GaskaPiotr/Laby/blob/main/151427_G%C4%85ska_Piotr_Prolog_Lab_1.ipynb\" target=\"_parent\"><img src=\"https://colab.research.google.com/assets/colab-badge.svg\" alt=\"Open In Colab\"/></a>"
      ]
    },
    {
      "cell_type": "markdown",
      "metadata": {
        "id": "AMMXLENOd7V-"
      },
      "source": [
        "# Wstęp do Sztucznej Inteligencji - rok akademicki 2022/2023\n",
        "\n",
        "Przed rozpoczęciem pracy z notatnikiem zmień jego nazwę zgodnie z wzorem: `NrAlbumu_Nazwisko_Imie_PoprzedniaNazwa`.\n",
        "\n",
        "Przed wysłaniem notatnika upewnij się, że rozwiązałeś wszystkie zadania/ćwiczenia."
      ]
    },
    {
      "cell_type": "markdown",
      "metadata": {
        "id": "4ZZF68t-kiQ8"
      },
      "source": [
        "# Temat: Prolog - Programowanie w logice cz. I\n",
        "Zapoznaj się z treścią niniejszego notatnika czytając i wykonując go komórka po komórce. Wykonaj napotkane zadania/ćwiczenia."
      ]
    },
    {
      "cell_type": "markdown",
      "metadata": {
        "id": "8ODf7GQ2eLho"
      },
      "source": [
        "## Informacje wstępne\n",
        "Na zajęciech będziemy korzystać z `SWI Prolog` w wersji online  poprzez https://swish.swi-prolog.org/. Możliwe jest również pobranie i zainstalowanie prologa na komputerze: http://www.swi-prolog.org/download/stable.\n",
        "\n",
        "Prolog jest językiem programowania w logice. W przeciwieństwie do popularnych proceduralnych języków programowania (C, PASCAL,...) Prolog jest językiem deklaratywnym. Oznacza to, że pisząc program w Prologu, skupiamy się na definicjach obiektów i związkach między nimi, a nie na sposobie wykonania danego zadania. Nacisk zatem jest położony na to __CO__ obliczyć zamiast __JAK__ obliczyć. Zadaniem programisty jest zapisać logiczną strukturę problemu, sterowanie wykonaniem natomiast zostawiamy tzw. interpreterowi Prologa.\n",
        "\n",
        "Prolog opisany został w 1972 przez Alain Colmerauer (standardy ISO w 1995 i 2000). Używany jest w takich dziedzinach jak:\n",
        "- relacyjne bazy danych,\n",
        "- logika matematyczna,\n",
        "- problemy abstrakcyjne,\n",
        "- języki naturalne,\n",
        "- automatyka,\n",
        "- algebra symboliczna,\n",
        "- biochemia,\n",
        "- sztuczna inteligencja.\n",
        "\n",
        "Logika użyta w Prologu jest standardową dwuwartościową logiką matematyczną, opisywaną algebrą Boole’a. Podstawowe operacje to:\n",
        "- I (AND)\n",
        "- LUB (OR)\n",
        "- NEGACJA (NOT)\n",
        "- JEŚLI (IF)\n",
        "\n",
        "Zaś wartości logiczne to `true` oraz `false`.\n",
        "\n",
        "Prolog stara się uzgodnić wszystkie zdania w programie do logicznej wartości `true`.\n",
        "\n",
        "Podstawowymi pojęciami w prologu są __termy__, wiązane __uporządkowanymi relacjami__.\n",
        "\n",
        "Przykład:\n",
        "- termem mogą być `jas`, `malgosia`\n",
        "- relacjami mogą być `brat`, `siostra`\n",
        "- relacje są uporządkowane, co oznacza, że `jas` jest w relacji `brat` z termem `malgosia` , ale niekoniecznie na odwrót\n",
        "\n",
        "Schemat programu w prologu\n",
        "1. deklaracja faktów (baza danych termów i relacji)\n",
        "2. deklaracja reguł dozwolonych do manipulowania faktami\n",
        "3. deklaracja problemu (zadanie pytania)"
      ]
    },
    {
      "cell_type": "markdown",
      "metadata": {
        "id": "9B7YUblnktrz"
      },
      "source": [
        "## Hello World w Prologu\n",
        "Ucząc się nowego języka programowania, często pierwszym programem pisanym przez początkującego programistę jest program wyświetlający pozdrowienia na ekranie. W Prologu podobna funkcje pełni program, który odpowiada na pytanie co kto lubi."
      ]
    },
    {
      "cell_type": "markdown",
      "metadata": {
        "id": "lFD4AIrBffbv"
      },
      "source": [
        "#### Ćwiczenie 1:\n",
        " - Jeśli używasz Prologa zainstalowanego na komputerze:\n",
        "   Stwórz nowy plik tekstowy i zapisz go pod nazwa `lubi.pl`. Edytuj jego treść. Zapisz w nim:\n",
        "   ```prolog\n",
        "lubi(jarek, jablko).\n",
        "lubi(jarek, gruszka).\n",
        "lubi(kasia, piwo).\n",
        "lubi(kasia, hamburger).\n",
        "```\n",
        "  __Pamiętaj o kropce na końcu!__\n",
        "\n",
        "  Plik `lubi.pl` stanowi tzw. bazę wiedzy, aby ją załadować wykonaj polecenie `consult('sciezka_do_pliku').` lub krócej `['sciezka_do_pliku'].` (po wcześniejszym uruchomieniu `swipl`).\n",
        "   ```prolog\n",
        "?- ['lubi.pl'].\n",
        "```\n",
        "\n",
        "- Jeśli używasz Prologa online to treść pliku `lubi.pl` umieść w komórce `Program`.\n",
        "\n",
        "\n",
        "Następnie wykonaj następujące zapytania.\n",
        "```prolog\n",
        "?- lubi(jarek, piwo).\n",
        "```\n",
        "```prolog\n",
        "?- lubi(kasia, hamburger).\n",
        "```\n",
        "Baza znanych faktów zostaje przeszukana w takiej kolejności w jakiej fakty zostały wprowadzone i jeśli napotkany zostanie fakt, o który pytamy, odpowiedź będzie pozytywna, a zatem prawdziwość faktu zostanie potwierdzona. Jeśli taki fakt nie zostanie znaleziony, Prolog odpowiada „nie”. „Nie” w Prologu nie oznacza, ze coś jest nieprawdziwe, a raczej, że Prolog na podstawie znanych mu faktów (i reguł) nie jest w stanie go potwierdzić."
      ]
    },
    {
      "cell_type": "markdown",
      "metadata": {
        "id": "l_vcZLlxh19H"
      },
      "source": [
        "## Fakty\n",
        "W powyższym przykładzie zostały zapisane fakty typu: \"jarek lubi jabłka\". Fakty mogą również przyjmować postać:\n",
        "- `czlowiek(jarek).` -> jarek jest człowiekiem\n",
        "- `rodzice(maria, stefan, henio).` -> maria oraz stefan są rodzicami henia\n",
        "- `ladna_pogoda.` -> fakt; jeśli zapytamy `ladna_pogoda.` to otrzymamy odpowiedź twierdzącą.\n",
        "\n",
        "W powyższych przykładach `czlowiek`, `rodzice`, `ladna_pogoda` są __predykatami__. Należy pamiętać o kropkach kończących deklaracje każdego faktu.\n",
        "\n",
        "Fakty mogą być również zapisane za pomocą bardziej skomplikowanych struktur:\n",
        "\n",
        "`ksiazka(tytul(‘Ogniem i mieczem’), autor(henryk, sienkiewicz), 42353).`"
      ]
    },
    {
      "cell_type": "markdown",
      "metadata": {
        "id": "l-OhAVorh9ow"
      },
      "source": [
        "## Stałe i zmienne\n",
        "Stałe w prologu pisane są z małej litery (np. `jarek`, `ksiazka`). Zmienne pisane są z dużej litery\n",
        "lub zaczynają się od znaku podkreślenia (np. `X`, `_zmienna`, `Zmienna`). Zmienne można wykorzystać do zadawania bardziej interesujących pytań Prologowi."
      ]
    },
    {
      "cell_type": "markdown",
      "metadata": {
        "id": "OJCwrDffiEd9"
      },
      "source": [
        "#### Ćwiczenie 2:\n",
        "Wykonaj zapytanie:\n",
        "```prolog\n",
        "?- lubi(kasia, X).\n",
        "```\n",
        "\n",
        "Naciśnięcie `ENTER` powoduje zakończenie poszukiwań kolejnych rozwiązań. Naciśniecie `;` powoduje poszukiwanie alternatywnych rozwiązań. Średnik jest w Prologu oznaczeniem logicznej operacji `OR`.\n",
        "\n",
        "Wykonaj kolejne zapytania:\n",
        "```prolog\n",
        "?- lubi(X, jablko).\n",
        "```\n",
        "```prolog\n",
        "?- lubi(X,Y).\n",
        "```\n",
        "Do zmiennych przypisywane są kolejne znalezione wartości (__uzgadnianie__), które pasują do zapytania. Odbywa się to w procesie zwanym __nawracaniem__."
      ]
    },
    {
      "cell_type": "markdown",
      "metadata": {
        "id": "aTJLCU6KiT-T"
      },
      "source": [
        "## Reguły\n",
        "Reguła składa się głowy reguły oraz ciała. Aby spełniona była przesłanka reguły, spełnione\n",
        "muszą być wszystkie jej podcele, w tym przypadku oddzielone przecinkiem, co w Prologu\n",
        "oznacza logiczne `AND`. Przykład:\n",
        "```\n",
        "lubi(stefan, X) :- slodkie(X), zdrowe(X).\n",
        "     GŁOWA      IF        WARUNKI\n",
        "```\n",
        "Powyższa reguła mówi nam, że `stefan` lubi `coś` co jest `slodkie` i `zdrowe`."
      ]
    },
    {
      "cell_type": "markdown",
      "metadata": {
        "id": "ZiHzVQYYibOS"
      },
      "source": [
        "#### Ćwiczenie 3:\n",
        "Wprowadź do bazy (`lubi.pl`) poniższe fakty i regułę:\n",
        "```prolog\n",
        "slodkie(jablko).\n",
        "slodkie(czekolada).\n",
        "zdrowe(jablko).\n",
        "lubi(stefan, X) :- slodkie(X), zdrowe(X).\n",
        "```\n",
        "Zapytaj co lubi stefan.\n",
        "\n",
        "Jak widać, stefan lubi jabłka. Prolog znalazł tą odpowiedź, mimo że w zbiorze faktów nie było wprost powiedziane, ze stefan lubi jablka. Stefan nie lubi natomiast czekolady, gdyż mimo iż słodka, nie jest zdrowa (przynajmniej nic o jej zdrowotnym wpływie nie jest Prologowi wiadomo...)."
      ]
    },
    {
      "cell_type": "markdown",
      "metadata": {
        "id": "QKWpMlq9iz-A"
      },
      "source": [
        "## Zadanie 1:\n",
        "Stwórz nowy plik z następującą zawartością i załaduj go do pamięci:\n",
        "```prolog\n",
        "mezczyzna(adam).\n",
        "mezczyzna(stefan).\n",
        "mezczyzna(staszek).\n",
        "mezczyzna(marek).\n",
        "kobieta(ala).\n",
        "kobieta(alina).\n",
        "kobieta(maria).\n",
        "kobieta(ania).\n",
        "rodzice(stefan, staszek, maria).\n",
        "rodzice(ala, staszek, maria).\n",
        "rodzice(ania, marek, alina).\n",
        "```\n",
        "Predykat `rodzice(X,Y,Z)` określa, ze ojcem X jest Y, a matką Z.\n",
        "\n",
        "Zadaj pytania:\n",
        "1. kim są rodzice stefana?\n",
        "2. kogo ojcem jest staszek?\n",
        "\n",
        "__Uwaga:__ Jeśli chcemy zapytać na przykład tylko o ojca stefana, możemy w miejsce zmiennej oznaczającej matkę wstawić zmienną anonimową `_`.\n",
        "```prolog\n",
        "rodzice(stefan, Ojciec, _).\n",
        "```\n",
        "Zapytania oraz uzyskane odpowiedzi na nie umieść w komórce poniżej."
      ]
    },
    {
      "cell_type": "code",
      "source": [
        "rodzice(stefan, Ojciec, Matka).\n",
        "rodzice(Dziecko, staszek, _)."
      ],
      "metadata": {
        "colab": {
          "base_uri": "https://localhost:8080/",
          "height": 106
        },
        "id": "wnmHjj54Baaj",
        "outputId": "778bf153-4ced-4fd7-f6e1-66194640a778"
      },
      "execution_count": null,
      "outputs": [
        {
          "output_type": "error",
          "ename": "SyntaxError",
          "evalue": "invalid syntax (<ipython-input-2-040ca886ebe6>, line 1)",
          "traceback": [
            "\u001b[0;36m  File \u001b[0;32m\"<ipython-input-2-040ca886ebe6>\"\u001b[0;36m, line \u001b[0;32m1\u001b[0m\n\u001b[0;31m    rodzice(stefan, Ojciec, Matka).\u001b[0m\n\u001b[0m                                   ^\u001b[0m\n\u001b[0;31mSyntaxError\u001b[0m\u001b[0;31m:\u001b[0m invalid syntax\n"
          ]
        }
      ]
    },
    {
      "cell_type": "markdown",
      "metadata": {
        "id": "D4QnaFVYi8bw"
      },
      "source": [
        "## Zadanie 2:\n",
        "Do bazy wiedzy z zadania 2 dodaj regułę określającą, kiedy X jest siostrą Y.\n",
        "\n",
        "Uwaga! Pamiętaj, że `,` w Prologu pełni rolę AND, natomiast `;` rolę OR.\n",
        "\n",
        "```prolog\n",
        "siostra(X, Y) :- ...\n",
        "```"
      ]
    },
    {
      "cell_type": "code",
      "source": [
        "siostra(X, Y) :- kobieta(X), rodzice(X, Ojciec, Matka), rodzice(Y, Ojciec, Matka), X \\= Y."
      ],
      "metadata": {
        "id": "w_WM-ZlbB1Tb"
      },
      "execution_count": null,
      "outputs": []
    },
    {
      "cell_type": "markdown",
      "metadata": {
        "id": "PE1roTj0jGUJ"
      },
      "source": [
        "## Arytmetyka\n",
        "Prolog umożliwia operacje na liczbach, pamiętać jednak trzeba o różnicach w zapisie:\n",
        "```prolog\n",
        "X = 3*4+2.\n",
        "```\n",
        "a zapisem\n",
        "```prolog\n",
        "X is 3*4+2.\n",
        "```\n",
        "Wypróbuj również zapytanie:\n",
        "```prolog\n",
        "X=3*4+2, display(X).\n",
        "```\n",
        "Na stronie http://www.swi-prolog.org/pldoc/man?section=functions sprawdź, jakie możliwości daje SWI-Prolog jeśli chodzi o działania arytmetyczne."
      ]
    },
    {
      "cell_type": "markdown",
      "metadata": {
        "id": "s_0-DGvbjdAO"
      },
      "source": [
        "#### Ćwiczenie 4:\n",
        "Co zrobić, aby jeśli X jest mniejsze od 4 Wynik miał taką samą wartość jak X?\n",
        "\n",
        "Przyjrzyj się przykładowi poniżej:\n",
        "```prolog\n",
        "pom(X,W):-X>4, W is X*2.\n",
        "pom(X,W):-W is X.\n",
        "```\n",
        "Widać, że jeśli nie jest spełniony warunek w pierwszej klauzuli predykatu `pom`, to wykorzystana jest druga reguła. Prawidłowo zatem Prolog odpowie na pytanie:\n",
        "```prolog\n",
        "?- pom(2, Wynik).\n",
        "```\n",
        "Problem jest natomiast gdy zadamy pytanie:\n",
        "```prolog\n",
        "?- pom(5, Wynik).\n",
        "```\n",
        "Pierwsza odpowiedz jest prawidłowa, jeśli jednak zapytamy o alternatywę (naciśniemy średnik), dostaniemy drugą odpowiedź, wywnioskowaną z drugiej reguły. Aby uniknąć takich sytuacji często stosuje się mechanizm odcięcia zapisywany jako wykrzyknik `!`.\n",
        "```prolog\n",
        "pom(X,W):-X>4, W is X*2, !.\n",
        "pom(X,W):-W is X.\n",
        "```\n",
        "Odcięcie powoduje, że po dojściu do danego miejsca, Prolog nie będzie próbował uzgadniać ponownie celów stających po lewej stronie znaku „!”, w naszym przypadku chodzi o cel główny jakim jest pytanie `pom(5,Wynik).`.\n",
        "\n",
        "Sprawdź działanie poprawionego predykatu `pom`."
      ]
    },
    {
      "cell_type": "markdown",
      "metadata": {
        "id": "4PmH1VP_jYmE"
      },
      "source": [
        "## Zadanie 3:\n",
        "Jak obliczyć dwukrotną wartość podanej liczby, jeśli ta liczba jest większa od 4?\n",
        "```prolog\n",
        "pomnoz_2(X, Wynik) :- X>4, Wynik is 2*X.\n",
        "```\n",
        "Czy\n",
        "```prolog\n",
        "pomnoz_2(X, Wynik) :- X>4, Wynik = 2*X.\n",
        "```"
      ]
    },
    {
      "cell_type": "code",
      "source": [
        "pomnoz_2(X, Wynik) :- X>4, Wynik is 2*X."
      ],
      "metadata": {
        "id": "y6MRIWkmlPcM"
      },
      "execution_count": null,
      "outputs": []
    },
    {
      "cell_type": "markdown",
      "metadata": {
        "id": "Yt8HAzqBjpfN"
      },
      "source": [
        "## Zadanie 4:\n",
        "Zbuduj bazę wiedzy, w której zawarta będzie informacjach, w jakich latach rządzili królowie np.\n",
        "```prolog\n",
        "krol(jan_I, 1323, 1355)\n",
        "```\n",
        "oznacza, że jan_I rzadzil od 1323 roku do 1355 roku.\n",
        "\n",
        "Napisz regułę umożliwiającą zadawanie pytań, kto rządził w danym roku.\n",
        "```prolog\n",
        "rzadzil(Krol, Rok) :- ...\n",
        "```\n",
        "Stworzoną bazę wiedzy, regułe oraz kilka przykładowych zapytań z odpowiedziami umieść w komórce poniżej."
      ]
    },
    {
      "cell_type": "code",
      "source": [
        "krol(jan_I, 1323, 1355).\n",
        "krol(jan_II, 1356, 1359).\n",
        "krol(jan_III, 1360, 1361).\n",
        "krol(jan_IV, 1362, 1390).\n",
        "krol(jan_V, 1391, 1400).\n",
        "\n",
        "rzadzil(Krol, Rok) :- krol(Krol, X, Y), Rok > X, Rok < Y."
      ],
      "metadata": {
        "id": "dD-8a71Wm9wF"
      },
      "execution_count": null,
      "outputs": []
    },
    {
      "cell_type": "markdown",
      "metadata": {
        "id": "SkCdALFkj0kk"
      },
      "source": [
        "## Dodatkowe polecenia\n",
        "Sprawdź w dokumentacji\n",
        "\n",
        "http://www.swi-prolog.org/pldoc/man?section=quickstart\n",
        "\n",
        "za co odpowiadają następujące polecienia/predykaty:\n",
        "- `make.`\n",
        "- `listing.`\n",
        "- `[user].`"
      ]
    },
    {
      "cell_type": "markdown",
      "metadata": {
        "id": "C57dALyNj4Se"
      },
      "source": [
        "&copy; Katedra Informatyki, Politechnika Krakowska"
      ]
    }
  ],
  "metadata": {
    "colab": {
      "provenance": [],
      "include_colab_link": true
    },
    "kernelspec": {
      "display_name": "Python 3",
      "name": "python3"
    }
  },
  "nbformat": 4,
  "nbformat_minor": 0
}